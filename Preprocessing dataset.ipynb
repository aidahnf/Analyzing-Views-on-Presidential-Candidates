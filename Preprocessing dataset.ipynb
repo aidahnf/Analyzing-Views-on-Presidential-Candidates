{
 "cells": [
  {
   "cell_type": "code",
   "execution_count": 2,
   "metadata": {},
   "outputs": [
    {
     "name": "stdout",
     "output_type": "stream",
     "text": [
      "Collecting pandas\n",
      "  Downloading pandas-1.3.5-cp37-cp37m-win_amd64.whl.metadata (12 kB)\n",
      "Requirement already satisfied: python-dateutil>=2.7.3 in c:\\users\\aida hf\\appdata\\roaming\\python\\python37\\site-packages (from pandas) (2.9.0.post0)\n",
      "Collecting pytz>=2017.3 (from pandas)\n",
      "  Downloading pytz-2024.1-py2.py3-none-any.whl.metadata (22 kB)\n",
      "Collecting numpy>=1.17.3 (from pandas)\n",
      "  Downloading numpy-1.21.6-cp37-cp37m-win_amd64.whl.metadata (2.2 kB)\n",
      "Requirement already satisfied: six>=1.5 in c:\\users\\aida hf\\appdata\\roaming\\python\\python37\\site-packages (from python-dateutil>=2.7.3->pandas) (1.16.0)\n",
      "Downloading pandas-1.3.5-cp37-cp37m-win_amd64.whl (10.0 MB)\n",
      "   ---------------------------------------- 10.0/10.0 MB 2.5 MB/s eta 0:00:00\n",
      "Downloading numpy-1.21.6-cp37-cp37m-win_amd64.whl (14.0 MB)\n",
      "   ---------------------------------------- 14.0/14.0 MB 2.1 MB/s eta 0:00:00\n",
      "Downloading pytz-2024.1-py2.py3-none-any.whl (505 kB)\n",
      "   ---------------------------------------- 505.5/505.5 kB 2.4 MB/s eta 0:00:00\n",
      "Installing collected packages: pytz, numpy, pandas\n",
      "Successfully installed numpy-1.21.6 pandas-1.3.5 pytz-2024.1\n"
     ]
    }
   ],
   "source": [
    "!pip install pandas"
   ]
  },
  {
   "cell_type": "code",
   "execution_count": 2,
   "metadata": {},
   "outputs": [],
   "source": [
    "import pandas as pd"
   ]
  },
  {
   "cell_type": "code",
   "execution_count": 3,
   "metadata": {},
   "outputs": [],
   "source": [
    "df = pd.read_csv(\"combined.csv\")"
   ]
  },
  {
   "cell_type": "code",
   "execution_count": 4,
   "metadata": {},
   "outputs": [
    {
     "name": "stdout",
     "output_type": "stream",
     "text": [
      "   conversation_id_str                      created_at  favorite_count  \\\n",
      "0         1.755380e+18  Wed Feb 07 23:59:51 +0000 2024            26.0   \n",
      "1         1.755088e+18  Wed Feb 07 23:54:18 +0000 2024            31.0   \n",
      "2         1.755379e+18  Wed Feb 07 23:53:46 +0000 2024            59.0   \n",
      "3         1.755379e+18  Wed Feb 07 23:52:15 +0000 2024            47.0   \n",
      "4         1.755253e+18  Wed Feb 07 23:50:17 +0000 2024            35.0   \n",
      "\n",
      "                                           full_text        id_str image_url  \\\n",
      "0  @CNNIndonesia Yang kami inginkan di Sumut adal...  1.755381e+18       NaN   \n",
      "1  @baharirwan2 Yg begini sy baru tahu. Koq di be...  1.755379e+18       NaN   \n",
      "2  BAGUS JUGA PROF YANG KAGA BAGUS SUARANYA CUMA ...  1.755379e+18       NaN   \n",
      "3  Pak Anies selama Covid MELAWAN pemerintah pusa...  1.755379e+18       NaN   \n",
      "4  @zxhraxxx @GeiszChalifah Aku mewekkk pagi2 bac...  1.755378e+18       NaN   \n",
      "\n",
      "  in_reply_to_screen_name lang                 location quote_count  ...  \\\n",
      "0            CNNIndonesia   in                      NaN         0.0  ...   \n",
      "1             baharirwan2   in                      NaN         0.0  ...   \n",
      "2                     NaN   in                  R A N T         0.0  ...   \n",
      "3                     NaN   in  Karawaci Cricket Ground         TNG  ...   \n",
      "4                zxhraxxx   in                      NaN         0.0  ...   \n",
      "\n",
      "  image_url.1  in_reply_to_screen_name.1 lang.1 location.1 quote_count.1  \\\n",
      "0         NaN                        NaN    NaN        NaN           NaN   \n",
      "1         NaN                        NaN    NaN        NaN           NaN   \n",
      "2         NaN                        NaN    NaN        NaN           NaN   \n",
      "3         NaN                        NaN    NaN        NaN           NaN   \n",
      "4         NaN                        NaN    NaN        NaN           NaN   \n",
      "\n",
      "  reply_count.1 retweet_count.1  tweet_url.1  user_id_str.1  username.1  \n",
      "0           NaN             NaN          NaN            NaN         NaN  \n",
      "1           NaN             NaN          NaN            NaN         NaN  \n",
      "2           NaN             NaN          NaN            NaN         NaN  \n",
      "3           NaN             NaN          NaN            NaN         NaN  \n",
      "4           NaN             NaN          NaN            NaN         NaN  \n",
      "\n",
      "[5 rows x 30 columns]\n",
      "<class 'pandas.core.frame.DataFrame'>\n",
      "RangeIndex: 524 entries, 0 to 523\n",
      "Data columns (total 30 columns):\n",
      " #   Column                     Non-Null Count  Dtype  \n",
      "---  ------                     --------------  -----  \n",
      " 0   conversation_id_str        524 non-null    float64\n",
      " 1   created_at                 524 non-null    object \n",
      " 2   favorite_count             524 non-null    float64\n",
      " 3   full_text                  524 non-null    object \n",
      " 4   id_str                     524 non-null    float64\n",
      " 5   image_url                  173 non-null    object \n",
      " 6   in_reply_to_screen_name    253 non-null    object \n",
      " 7   lang                       524 non-null    object \n",
      " 8   location                   285 non-null    object \n",
      " 9   quote_count                524 non-null    object \n",
      " 10  reply_count                524 non-null    object \n",
      " 11  retweet_count              524 non-null    float64\n",
      " 12  tweet_url                  524 non-null    object \n",
      " 13  user_id_str                524 non-null    object \n",
      " 14  username                   524 non-null    object \n",
      " 15  conversation_id_str.1      100 non-null    object \n",
      " 16  created_at.1               5 non-null      object \n",
      " 17  favorite_count.1           0 non-null      float64\n",
      " 18  full_text.1                0 non-null      float64\n",
      " 19  id_str.1                   0 non-null      float64\n",
      " 20  image_url.1                0 non-null      float64\n",
      " 21  in_reply_to_screen_name.1  0 non-null      float64\n",
      " 22  lang.1                     0 non-null      float64\n",
      " 23  location.1                 0 non-null      float64\n",
      " 24  quote_count.1              0 non-null      float64\n",
      " 25  reply_count.1              0 non-null      float64\n",
      " 26  retweet_count.1            0 non-null      float64\n",
      " 27  tweet_url.1                0 non-null      float64\n",
      " 28  user_id_str.1              0 non-null      float64\n",
      " 29  username.1                 0 non-null      float64\n",
      "dtypes: float64(17), object(13)\n",
      "memory usage: 122.9+ KB\n",
      "None\n"
     ]
    }
   ],
   "source": [
    "print(df.head())  # Menampilkan 5 baris pertama\n",
    "print(df.info())  # Mendapatkan informasi umum tentang dataset"
   ]
  },
  {
   "cell_type": "code",
   "execution_count": 5,
   "metadata": {},
   "outputs": [],
   "source": [
    "df.drop_duplicates(inplace=True)"
   ]
  },
  {
   "cell_type": "code",
   "execution_count": 6,
   "metadata": {},
   "outputs": [],
   "source": [
    "df = df[[ 'username','full_text']].assign(sosmed='X')"
   ]
  },
  {
   "cell_type": "code",
   "execution_count": 7,
   "metadata": {},
   "outputs": [
    {
     "name": "stdout",
     "output_type": "stream",
     "text": [
      "                   username  \\\n",
      "0              SulianaPohan   \n",
      "1                 dewiam717   \n",
      "2                    k8ento   \n",
      "3    1.2028998274800886e+18   \n",
      "4                rona_ratna   \n",
      "..                      ...   \n",
      "519              antaranews   \n",
      "520          David_Wijaya03   \n",
      "521            sami86pilang   \n",
      "522           KEBUMENinLOVE   \n",
      "523              tempodotco   \n",
      "\n",
      "                                             full_text sosmed  \n",
      "0    @CNNIndonesia Yang kami inginkan di Sumut adal...      X  \n",
      "1    @baharirwan2 Yg begini sy baru tahu. Koq di be...      X  \n",
      "2    BAGUS JUGA PROF YANG KAGA BAGUS SUARANYA CUMA ...      X  \n",
      "3    Pak Anies selama Covid MELAWAN pemerintah pusa...      X  \n",
      "4    @zxhraxxx @GeiszChalifah Aku mewekkk pagi2 bac...      X  \n",
      "..                                                 ...    ...  \n",
      "519  Relawan Prabowo-Gibran nyalakan 1.000 lilin se...      X  \n",
      "520  Video 1: Saiful Mujani blak²an terkait Koalisi...      X  \n",
      "521  Prabowo-Gibran harus kalah sebagai pelajaran b...      X  \n",
      "522  Menit ke 32 itu ada anak kecil langsung peluk ...      X  \n",
      "523  Gugat KPU ke PTUN TPDI Minta Pencalonan Prabow...      X  \n",
      "\n",
      "[486 rows x 3 columns]\n"
     ]
    },
    {
     "ename": "",
     "evalue": "",
     "output_type": "error",
     "traceback": [
      "\u001b[1;31mThe Kernel crashed while executing code in the current cell or a previous cell. \n",
      "\u001b[1;31mPlease review the code in the cell(s) to identify a possible cause of the failure. \n",
      "\u001b[1;31mClick <a href='https://aka.ms/vscodeJupyterKernelCrash'>here</a> for more info. \n",
      "\u001b[1;31mView Jupyter <a href='command:jupyter.viewOutput'>log</a> for further details."
     ]
    }
   ],
   "source": [
    "print(df)\n"
   ]
  },
  {
   "cell_type": "code",
   "execution_count": 56,
   "metadata": {},
   "outputs": [],
   "source": [
    "df.to_csv('Xdata_Scraping_New.csv', index=False)"
   ]
  },
  {
   "cell_type": "code",
   "execution_count": 11,
   "metadata": {},
   "outputs": [],
   "source": [
    "# Membaca file CSV\n",
    "import pandas as pd\n",
    "\n",
    "# Specify the encoding (for example, 'latin1')\n",
    "df = pd.read_csv('Xdata_Scraping_New_rapi.csv', sep='\";\"', encoding='latin1', engine='python')\n",
    "\n"
   ]
  },
  {
   "cell_type": "code",
   "execution_count": 12,
   "metadata": {},
   "outputs": [
    {
     "name": "stdout",
     "output_type": "stream",
     "text": [
      "Index(['username;full_text;sosmed'], dtype='object')\n"
     ]
    }
   ],
   "source": [
    "print(df.columns)\n",
    "\n"
   ]
  },
  {
   "cell_type": "code",
   "execution_count": 15,
   "metadata": {},
   "outputs": [
    {
     "ename": "KeyError",
     "evalue": "'full_text'",
     "output_type": "error",
     "traceback": [
      "\u001b[1;31m---------------------------------------------------------------------------\u001b[0m",
      "\u001b[1;31mKeyError\u001b[0m                                  Traceback (most recent call last)",
      "\u001b[1;32mc:\\Users\\aida hf\\AppData\\Local\\Programs\\Python\\Python37\\lib\\site-packages\\pandas\\core\\indexes\\base.py\u001b[0m in \u001b[0;36mget_loc\u001b[1;34m(self, key, method, tolerance)\u001b[0m\n\u001b[0;32m   3360\u001b[0m             \u001b[1;32mtry\u001b[0m\u001b[1;33m:\u001b[0m\u001b[1;33m\u001b[0m\u001b[1;33m\u001b[0m\u001b[0m\n\u001b[1;32m-> 3361\u001b[1;33m                 \u001b[1;32mreturn\u001b[0m \u001b[0mself\u001b[0m\u001b[1;33m.\u001b[0m\u001b[0m_engine\u001b[0m\u001b[1;33m.\u001b[0m\u001b[0mget_loc\u001b[0m\u001b[1;33m(\u001b[0m\u001b[0mcasted_key\u001b[0m\u001b[1;33m)\u001b[0m\u001b[1;33m\u001b[0m\u001b[1;33m\u001b[0m\u001b[0m\n\u001b[0m\u001b[0;32m   3362\u001b[0m             \u001b[1;32mexcept\u001b[0m \u001b[0mKeyError\u001b[0m \u001b[1;32mas\u001b[0m \u001b[0merr\u001b[0m\u001b[1;33m:\u001b[0m\u001b[1;33m\u001b[0m\u001b[1;33m\u001b[0m\u001b[0m\n",
      "\u001b[1;32mc:\\Users\\aida hf\\AppData\\Local\\Programs\\Python\\Python37\\lib\\site-packages\\pandas\\_libs\\index.pyx\u001b[0m in \u001b[0;36mpandas._libs.index.IndexEngine.get_loc\u001b[1;34m()\u001b[0m\n",
      "\u001b[1;32mc:\\Users\\aida hf\\AppData\\Local\\Programs\\Python\\Python37\\lib\\site-packages\\pandas\\_libs\\index.pyx\u001b[0m in \u001b[0;36mpandas._libs.index.IndexEngine.get_loc\u001b[1;34m()\u001b[0m\n",
      "\u001b[1;32mpandas\\_libs\\hashtable_class_helper.pxi\u001b[0m in \u001b[0;36mpandas._libs.hashtable.PyObjectHashTable.get_item\u001b[1;34m()\u001b[0m\n",
      "\u001b[1;32mpandas\\_libs\\hashtable_class_helper.pxi\u001b[0m in \u001b[0;36mpandas._libs.hashtable.PyObjectHashTable.get_item\u001b[1;34m()\u001b[0m\n",
      "\u001b[1;31mKeyError\u001b[0m: 'full_text'",
      "\nThe above exception was the direct cause of the following exception:\n",
      "\u001b[1;31mKeyError\u001b[0m                                  Traceback (most recent call last)",
      "\u001b[1;32m~\\AppData\\Local\\Temp\\ipykernel_2576\\600326757.py\u001b[0m in \u001b[0;36m<module>\u001b[1;34m\u001b[0m\n\u001b[0;32m     33\u001b[0m \u001b[1;33m\u001b[0m\u001b[0m\n\u001b[0;32m     34\u001b[0m \u001b[1;31m# Menghapus noise pada kolom 'full_text'\u001b[0m\u001b[1;33m\u001b[0m\u001b[1;33m\u001b[0m\u001b[1;33m\u001b[0m\u001b[0m\n\u001b[1;32m---> 35\u001b[1;33m \u001b[0mdf\u001b[0m\u001b[1;33m[\u001b[0m\u001b[1;34m'full_text'\u001b[0m\u001b[1;33m]\u001b[0m \u001b[1;33m=\u001b[0m \u001b[0mdf\u001b[0m\u001b[1;33m[\u001b[0m\u001b[1;34m'full_text'\u001b[0m\u001b[1;33m]\u001b[0m\u001b[1;33m.\u001b[0m\u001b[0mapply\u001b[0m\u001b[1;33m(\u001b[0m\u001b[0mremove_noise\u001b[0m\u001b[1;33m)\u001b[0m\u001b[1;33m\u001b[0m\u001b[1;33m\u001b[0m\u001b[0m\n\u001b[0m\u001b[0;32m     36\u001b[0m \u001b[1;33m\u001b[0m\u001b[0m\n\u001b[0;32m     37\u001b[0m \u001b[1;31m# Menampilkan lima baris pertama\u001b[0m\u001b[1;33m\u001b[0m\u001b[1;33m\u001b[0m\u001b[1;33m\u001b[0m\u001b[0m\n",
      "\u001b[1;32mc:\\Users\\aida hf\\AppData\\Local\\Programs\\Python\\Python37\\lib\\site-packages\\pandas\\core\\frame.py\u001b[0m in \u001b[0;36m__getitem__\u001b[1;34m(self, key)\u001b[0m\n\u001b[0;32m   3456\u001b[0m             \u001b[1;32mif\u001b[0m \u001b[0mself\u001b[0m\u001b[1;33m.\u001b[0m\u001b[0mcolumns\u001b[0m\u001b[1;33m.\u001b[0m\u001b[0mnlevels\u001b[0m \u001b[1;33m>\u001b[0m \u001b[1;36m1\u001b[0m\u001b[1;33m:\u001b[0m\u001b[1;33m\u001b[0m\u001b[1;33m\u001b[0m\u001b[0m\n\u001b[0;32m   3457\u001b[0m                 \u001b[1;32mreturn\u001b[0m \u001b[0mself\u001b[0m\u001b[1;33m.\u001b[0m\u001b[0m_getitem_multilevel\u001b[0m\u001b[1;33m(\u001b[0m\u001b[0mkey\u001b[0m\u001b[1;33m)\u001b[0m\u001b[1;33m\u001b[0m\u001b[1;33m\u001b[0m\u001b[0m\n\u001b[1;32m-> 3458\u001b[1;33m             \u001b[0mindexer\u001b[0m \u001b[1;33m=\u001b[0m \u001b[0mself\u001b[0m\u001b[1;33m.\u001b[0m\u001b[0mcolumns\u001b[0m\u001b[1;33m.\u001b[0m\u001b[0mget_loc\u001b[0m\u001b[1;33m(\u001b[0m\u001b[0mkey\u001b[0m\u001b[1;33m)\u001b[0m\u001b[1;33m\u001b[0m\u001b[1;33m\u001b[0m\u001b[0m\n\u001b[0m\u001b[0;32m   3459\u001b[0m             \u001b[1;32mif\u001b[0m \u001b[0mis_integer\u001b[0m\u001b[1;33m(\u001b[0m\u001b[0mindexer\u001b[0m\u001b[1;33m)\u001b[0m\u001b[1;33m:\u001b[0m\u001b[1;33m\u001b[0m\u001b[1;33m\u001b[0m\u001b[0m\n\u001b[0;32m   3460\u001b[0m                 \u001b[0mindexer\u001b[0m \u001b[1;33m=\u001b[0m \u001b[1;33m[\u001b[0m\u001b[0mindexer\u001b[0m\u001b[1;33m]\u001b[0m\u001b[1;33m\u001b[0m\u001b[1;33m\u001b[0m\u001b[0m\n",
      "\u001b[1;32mc:\\Users\\aida hf\\AppData\\Local\\Programs\\Python\\Python37\\lib\\site-packages\\pandas\\core\\indexes\\base.py\u001b[0m in \u001b[0;36mget_loc\u001b[1;34m(self, key, method, tolerance)\u001b[0m\n\u001b[0;32m   3361\u001b[0m                 \u001b[1;32mreturn\u001b[0m \u001b[0mself\u001b[0m\u001b[1;33m.\u001b[0m\u001b[0m_engine\u001b[0m\u001b[1;33m.\u001b[0m\u001b[0mget_loc\u001b[0m\u001b[1;33m(\u001b[0m\u001b[0mcasted_key\u001b[0m\u001b[1;33m)\u001b[0m\u001b[1;33m\u001b[0m\u001b[1;33m\u001b[0m\u001b[0m\n\u001b[0;32m   3362\u001b[0m             \u001b[1;32mexcept\u001b[0m \u001b[0mKeyError\u001b[0m \u001b[1;32mas\u001b[0m \u001b[0merr\u001b[0m\u001b[1;33m:\u001b[0m\u001b[1;33m\u001b[0m\u001b[1;33m\u001b[0m\u001b[0m\n\u001b[1;32m-> 3363\u001b[1;33m                 \u001b[1;32mraise\u001b[0m \u001b[0mKeyError\u001b[0m\u001b[1;33m(\u001b[0m\u001b[0mkey\u001b[0m\u001b[1;33m)\u001b[0m \u001b[1;32mfrom\u001b[0m \u001b[0merr\u001b[0m\u001b[1;33m\u001b[0m\u001b[1;33m\u001b[0m\u001b[0m\n\u001b[0m\u001b[0;32m   3364\u001b[0m \u001b[1;33m\u001b[0m\u001b[0m\n\u001b[0;32m   3365\u001b[0m         \u001b[1;32mif\u001b[0m \u001b[0mis_scalar\u001b[0m\u001b[1;33m(\u001b[0m\u001b[0mkey\u001b[0m\u001b[1;33m)\u001b[0m \u001b[1;32mand\u001b[0m \u001b[0misna\u001b[0m\u001b[1;33m(\u001b[0m\u001b[0mkey\u001b[0m\u001b[1;33m)\u001b[0m \u001b[1;32mand\u001b[0m \u001b[1;32mnot\u001b[0m \u001b[0mself\u001b[0m\u001b[1;33m.\u001b[0m\u001b[0mhasnans\u001b[0m\u001b[1;33m:\u001b[0m\u001b[1;33m\u001b[0m\u001b[1;33m\u001b[0m\u001b[0m\n",
      "\u001b[1;31mKeyError\u001b[0m: 'full_text'"
     ]
    }
   ],
   "source": [
    "import pandas as pd\n",
    "import re\n",
    "\n",
    "def remove_noise(text):\n",
    "    # Menghapus username (format: @username)\n",
    "    text = re.sub(r'@\\w+', '', text)\n",
    "    \n",
    "    # Menghapus hashtag (format: #hashtag)\n",
    "    text = re.sub(r'#\\w+', '', text)\n",
    "    \n",
    "    # Menghapus URL\n",
    "    text = re.sub(r'http\\S+', '', text)\n",
    "    \n",
    "    # Menghapus emotikon (contoh: :) :( :D)\n",
    "    text = re.sub(r'(?::|;|=)(?:-)?(?:\\)|\\(|D|P)', '', text)\n",
    "    \n",
    "    # Menghapus huruf non-alphabet\n",
    "    text = re.sub(r'[^a-zA-Z\\s]', '', text)\n",
    "    \n",
    "    # Menghapus tanda baca\n",
    "    text = re.sub(r'[^\\w\\s]', '', text)\n",
    "    \n",
    "    return text.strip()\n",
    "\n",
    "# Membaca file CSV\n",
    "df = pd.read_csv('XData_Scaraping.csv', sep=',')  # Read with default separator\n",
    "\n",
    "# Remove extra spaces and quotation marks from column names\n",
    "columns = [col.strip().strip('\"') for col in df.columns]\n",
    "\n",
    "# Rename the columns\n",
    "df.columns = columns\n",
    "\n",
    "# Menghapus noise pada kolom 'full_text'\n",
    "df['full_text'] = df['full_text'].apply(remove_noise)\n",
    "\n",
    "# Menampilkan lima baris pertama\n",
    "print(df.head())\n",
    "\n"
   ]
  },
  {
   "cell_type": "code",
   "execution_count": 16,
   "metadata": {},
   "outputs": [
    {
     "name": "stdout",
     "output_type": "stream",
     "text": [
      "Index(['conversation_id_str,\"created_at\",\"favorite_count\",\"full_text\",\"id_str\",\"image_url\",\"in_reply_to_screen_name\",\"lang\",\"location\",\"quote_count\",\"reply_count\",\"retweet_count\",\"tweet_url\",\"user_id_str\",\"username'], dtype='object')\n"
     ]
    }
   ],
   "source": [
    "print(df.columns)\n"
   ]
  },
  {
   "cell_type": "code",
   "execution_count": null,
   "metadata": {},
   "outputs": [],
   "source": [
    "print(df)\n"
   ]
  },
  {
   "cell_type": "code",
   "execution_count": null,
   "metadata": {},
   "outputs": [],
   "source": [
    "# Menyimpan hasil ke file CSV baru\n",
    "df.to_csv('Xdata_Scraping_New.csv', index=False)\n"
   ]
  }
 ],
 "metadata": {
  "kernelspec": {
   "display_name": "Python 3",
   "language": "python",
   "name": "python3"
  },
  "language_info": {
   "codemirror_mode": {
    "name": "ipython",
    "version": 3
   },
   "file_extension": ".py",
   "mimetype": "text/x-python",
   "name": "python",
   "nbconvert_exporter": "python",
   "pygments_lexer": "ipython3",
   "version": "3.7.6"
  }
 },
 "nbformat": 4,
 "nbformat_minor": 2
}
